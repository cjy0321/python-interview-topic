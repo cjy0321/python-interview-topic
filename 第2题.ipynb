{
 "cells": [
  {
   "cell_type": "code",
   "execution_count": 140,
   "id": "e490666a",
   "metadata": {},
   "outputs": [
    {
     "name": "stdout",
     "output_type": "stream",
     "text": [
      "['', 'Variopartner SICAV', '529900LPCSV88817QH61', '1. TARENO GLOBAL WATER SOLUTIONS FUND', 'LU2001709034', 'LU2057889995', 'LU2001709547', '2. TARENO FIXED INCOME FUND', 'LU1299722972', '3. TARENO GLOBAL EQUITY FUND', 'LU1299721909', 'LU1299722113', 'LU1299722030', '4. MIV GLOBAL MEDTECH FUND', 'LU0329630999', 'LU0329630130', '']\n"
     ]
    }
   ],
   "source": [
    "long_text = \"\"\"\n",
    "Variopartner SICAV\n",
    "529900LPCSV88817QH61\n",
    "1. TARENO GLOBAL WATER SOLUTIONS FUND\n",
    "LU2001709034\n",
    "LU2057889995\n",
    "LU2001709547\n",
    "2. TARENO FIXED INCOME FUND\n",
    "LU1299722972\n",
    "3. TARENO GLOBAL EQUITY FUND\n",
    "LU1299721909\n",
    "LU1299722113\n",
    "LU1299722030\n",
    "4. MIV GLOBAL MEDTECH FUND\n",
    "LU0329630999\n",
    "LU0329630130\n",
    "\"\"\"\n",
    "\n",
    "A = long_text.split('\\n');\n",
    "print(A)"
   ]
  },
  {
   "cell_type": "code",
   "execution_count": 148,
   "id": "79d82eb8",
   "metadata": {},
   "outputs": [
    {
     "name": "stdout",
     "output_type": "stream",
     "text": [
      "[' TARENO GLOBAL WATER SOLUTIONS FUND', ' TARENO FIXED INCOME FUND', ' TARENO GLOBAL EQUITY FUND', ' MIV GLOBAL MEDTECH FUND']\n"
     ]
    }
   ],
   "source": [
    "name = A[1];\n",
    "lei =  A[2];\n",
    "\n",
    "a = long_text.count('.')\n",
    "a1 = long_text.find('.')\n",
    "a2 = long_text.find('FUND')\n",
    "a5 = a1;\n",
    "a6 =a2;\n",
    "\n",
    "#LU数组\n",
    "c = long_text.find('LU')\n",
    "c1 = long_text.count('LU')\n",
    "\n",
    "#定义数组存放内容\n",
    "title = []\n",
    "LU = []\n",
    "isin = []\n",
    "sub_fund = []\n",
    "sub = []\n",
    "SUB = []\n",
    "fu = []\n",
    "#title数组\n",
    "\n",
    "for i in range(0,a):\n",
    "    title.append(i)\n",
    "    title[i] = long_text[a5+1:a6]+\"FUND\"\n",
    "    a5 = long_text.find('.',a5+1)\n",
    "    a6 = long_text.find('FUND',a6+1)\n",
    "\n",
    "print(title)"
   ]
  },
  {
   "cell_type": "code",
   "execution_count": 144,
   "id": "7612eef7",
   "metadata": {},
   "outputs": [
    {
     "name": "stdout",
     "output_type": "stream",
     "text": [
      "[0, ['LU2001709034', 'LU2057889995', 'LU2001709547'], 1, ['LU1299722972'], 2, ['LU1299721909', 'LU1299722113', 'LU1299722030'], 3, ['LU0329630999', 'LU0329630130']]\n"
     ]
    }
   ],
   "source": [
    "#lu数组\n",
    "for i in range(0,a):\n",
    "    \"从fund开始到下一个.结束，将这里的LU放入素组\"\n",
    "    a3 = a1;\n",
    "    a1 = long_text.find('.', a3 + 1);\n",
    "    #从第一个“.”开始遍历，找到下一个点\n",
    "    a4 = long_text.find('FUND',a3,a1)\n",
    "    #从第一个“.”开始遍历，到下一个“.”结束，找到fund的位置\n",
    "    c2 = long_text.count('LU', a4, a1);\n",
    "    #从fund开始遍历，到下一个点结束，统计数字LU+数字的量\n",
    "    c = long_text.find('LU', a4, a1);\n",
    "    #从从fund开始遍历，到下一个点结束，找到第一个LU+数字的位置\n",
    "    for j in range(0,c2):\n",
    "        c5 = c\n",
    "        LU.append(j)\n",
    "        LU[j] = long_text[c5:c+12]\n",
    "        c = long_text.find('LU', c5+1, a1)\n",
    "        \n",
    "    isin.append(i)\n",
    "    isin.append(LU)\n",
    "    LU = []\n",
    "print(isin)"
   ]
  },
  {
   "cell_type": "code",
   "execution_count": 145,
   "id": "6bff60ec",
   "metadata": {},
   "outputs": [
    {
     "name": "stdout",
     "output_type": "stream",
     "text": [
      "sub [0, 2, 4, 6]\n"
     ]
    }
   ],
   "source": [
    "for i in range(0,len(isin)):\n",
    "    if type(isin[i]) == int:\n",
    "        sub.append(i)\n",
    "    else:\n",
    "        continue\n",
    "print(\"sub\",sub)"
   ]
  },
  {
   "cell_type": "code",
   "execution_count": 146,
   "id": "89b34a90",
   "metadata": {},
   "outputs": [
    {
     "name": "stdout",
     "output_type": "stream",
     "text": [
      "[0, {'title': ' TARENO GLOBAL WATER SOLUTIONS FUND', 'isin': ['LU2001709034', 'LU2057889995', 'LU2001709547']}, 1, {'title': ' TARENO FIXED INCOME FUND', 'isin': ['LU1299722972']}, 2, {'title': ' TARENO GLOBAL EQUITY FUND', 'isin': ['LU1299721909', 'LU1299722113', 'LU1299722030']}, 3, {'title': ' MIV GLOBAL MEDTECH FUND', 'isin': ['LU0329630999', 'LU0329630130']}]\n"
     ]
    }
   ],
   "source": [
    "str1 = \"title\"\n",
    "str2 = \"isin\"\n",
    "for j in range(0,a):\n",
    "    sub_fund.append(j)\n",
    "    e=sub[j]\n",
    "    SUB.append(j)\n",
    "    SUB[j] = [\"title：\",title[j],'\\n',\"isin:\",isin[e+1]]\n",
    "   \n",
    "    #print(SUB)\n",
    "    \n",
    "    sub_fund.append({str1:title[j],str2:isin[e+1]})\n",
    "print(sub_fund)"
   ]
  },
  {
   "cell_type": "code",
   "execution_count": 147,
   "id": "4c4b094e",
   "metadata": {},
   "outputs": [
    {
     "name": "stdout",
     "output_type": "stream",
     "text": [
      "{'name': 'Variopartner SICAV', 'lei': '529900LPCSV88817QH61', 'sub_fund': [{'title': ' TARENO GLOBAL WATER SOLUTIONS FUND', 'isin': ['LU2001709034', 'LU2057889995', 'LU2001709547']}, {'title': ' TARENO FIXED INCOME FUND', 'isin': ['LU1299722972']}, {'title': ' TARENO GLOBAL EQUITY FUND', 'isin': ['LU1299721909', 'LU1299722113', 'LU1299722030']}, {'title': ' MIV GLOBAL MEDTECH FUND', 'isin': ['LU0329630999', 'LU0329630130']}]}\n"
     ]
    }
   ],
   "source": [
    "for l in range(0,len(sub_fund)):\n",
    "    if type(sub_fund[l]) == int:\n",
    "        fu.append(l)\n",
    "    else:\n",
    "        continue\n",
    "\n",
    "sub_fund = [sub_fund[i] for i in range(len(sub_fund)) if(i not in fu)]\n",
    "endfiles = {\n",
    "     'name': name,\n",
    "     'lei': lei,\n",
    "     'sub_fund':sub_fund\n",
    " }\n",
    "print(endfiles)"
   ]
  }
 ],
 "metadata": {
  "kernelspec": {
   "display_name": "Python 3",
   "language": "python",
   "name": "python3"
  },
  "language_info": {
   "codemirror_mode": {
    "name": "ipython",
    "version": 3
   },
   "file_extension": ".py",
   "mimetype": "text/x-python",
   "name": "python",
   "nbconvert_exporter": "python",
   "pygments_lexer": "ipython3",
   "version": "3.8.8"
  }
 },
 "nbformat": 4,
 "nbformat_minor": 5
}
